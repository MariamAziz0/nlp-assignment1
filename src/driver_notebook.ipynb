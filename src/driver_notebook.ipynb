{
 "cells": [
  {
   "cell_type": "code",
   "id": "initial_id",
   "metadata": {
    "collapsed": true,
    "jupyter": {
     "outputs_hidden": true
    },
    "ExecuteTime": {
     "end_time": "2024-10-29T15:53:32.624820Z",
     "start_time": "2024-10-29T15:53:32.621731Z"
    }
   },
   "source": [
    "from importlib import reload\n",
    "import data_loader as dl\n",
    "import naive_bayes as nb"
   ],
   "outputs": [],
   "execution_count": 103
  },
  {
   "cell_type": "markdown",
   "id": "2bfbe9834b885c0",
   "metadata": {},
   "source": [
    "You can reload the data_loader.py without restarting the kernel using `reload(data_loader)`"
   ]
  },
  {
   "cell_type": "code",
   "id": "b91dbce09522431b",
   "metadata": {
    "ExecuteTime": {
     "end_time": "2024-10-29T15:53:32.639599Z",
     "start_time": "2024-10-29T15:53:32.631861Z"
    }
   },
   "source": [
    "reload(dl)\n",
    "reload(nb)"
   ],
   "outputs": [
    {
     "data": {
      "text/plain": [
       "<module 'naive_bayes' from 'D:\\\\College\\\\Level 4\\\\Fall Semester\\\\CSE 472 - Data Mining (NLP)\\\\Labs\\\\nlp-assignment1\\\\src\\\\naive_bayes.py'>"
      ]
     },
     "execution_count": 104,
     "metadata": {},
     "output_type": "execute_result"
    }
   ],
   "execution_count": 104
  },
  {
   "metadata": {},
   "cell_type": "markdown",
   "source": "# Part 0: Data loading and Preprocessing",
   "id": "cffed5910999b40a"
  },
  {
   "cell_type": "code",
   "id": "224663592707b1fc",
   "metadata": {
    "ExecuteTime": {
     "end_time": "2024-10-29T15:53:32.687723Z",
     "start_time": "2024-10-29T15:53:32.648543Z"
    }
   },
   "source": [
    "data_loader = dl.DataLoader()  # using the default file paths and columns to select.\n",
    "data_loader.load_preprocess_data()\n",
    "data_loader.describe_data()"
   ],
   "outputs": [
    {
     "name": "stdout",
     "output_type": "stream",
     "text": [
      "+----------------------+-------------+----------------+-------------------------+---------------------------+\n",
      "| DataFrame            |   # of Rows |   # of Columns | Column Names            | Label Statistics          |\n",
      "+======================+=============+================+=========================+===========================+\n",
      "| Training Dataframe   |        8544 |              3 | sentence, label, tokens | label                     |\n",
      "|                      |             |                |                         | 3    2322                 |\n",
      "|                      |             |                |                         | 1    2218                 |\n",
      "|                      |             |                |                         | 2    1624                 |\n",
      "|                      |             |                |                         | 4    1288                 |\n",
      "|                      |             |                |                         | 0    1092                 |\n",
      "|                      |             |                |                         | Name: count, dtype: int64 |\n",
      "+----------------------+-------------+----------------+-------------------------+---------------------------+\n",
      "| Testing Dataframe    |        2210 |              3 | sentence, label, tokens | label                     |\n",
      "|                      |             |                |                         | 1    633                  |\n",
      "|                      |             |                |                         | 3    510                  |\n",
      "|                      |             |                |                         | 4    399                  |\n",
      "|                      |             |                |                         | 2    389                  |\n",
      "|                      |             |                |                         | 0    279                  |\n",
      "|                      |             |                |                         | Name: count, dtype: int64 |\n",
      "+----------------------+-------------+----------------+-------------------------+---------------------------+\n",
      "| Validation Dataframe |        1101 |              3 | sentence, label, tokens | label                     |\n",
      "|                      |             |                |                         | 1    289                  |\n",
      "|                      |             |                |                         | 3    279                  |\n",
      "|                      |             |                |                         | 2    229                  |\n",
      "|                      |             |                |                         | 4    165                  |\n",
      "|                      |             |                |                         | 0    139                  |\n",
      "|                      |             |                |                         | Name: count, dtype: int64 |\n",
      "+----------------------+-------------+----------------+-------------------------+---------------------------+\n"
     ]
    }
   ],
   "execution_count": 105
  },
  {
   "cell_type": "markdown",
   "id": "adb644820931ff72",
   "metadata": {},
   "source": [
    "Use `data_loader.get_data()` to get the 3 dataframes"
   ]
  },
  {
   "cell_type": "code",
   "id": "fb7536856329af26",
   "metadata": {
    "ExecuteTime": {
     "end_time": "2024-10-29T15:53:32.715330Z",
     "start_time": "2024-10-29T15:53:32.712876Z"
    }
   },
   "source": [
    "train_df, test_df, validation_df = data_loader.get_data()"
   ],
   "outputs": [],
   "execution_count": 106
  },
  {
   "metadata": {},
   "cell_type": "markdown",
   "source": "# Part 1: Naive Bayes",
   "id": "8c9b429bbea40e48"
  },
  {
   "metadata": {
    "ExecuteTime": {
     "end_time": "2024-10-29T15:53:34.987419Z",
     "start_time": "2024-10-29T15:53:32.770005Z"
    }
   },
   "cell_type": "code",
   "source": [
    "naive_bayes = nb.NaiveBayes(train_df, test_df)\n",
    "naive_bayes.train()\n",
    "y_hat = naive_bayes.predict_all()"
   ],
   "id": "41b6b358b8b3c122",
   "outputs": [
    {
     "name": "stdout",
     "output_type": "stream",
     "text": [
      "Finished preprocessing corpus vocabulary .. found 18280 word type.\n",
      "Computing big doc .. 12.78% completed\n",
      "Computing big doc .. 38.74% completed\n",
      "Computing big doc .. 57.75% completed\n",
      "Computing big doc .. 84.93% completed\n",
      "Computing big doc .. 100.00% completed\n",
      "Training model .. 12.78% completed.\n",
      "Training model .. 38.74% completed.\n",
      "Training model .. 57.75% completed.\n",
      "Training model .. 84.93% completed.\n",
      "Training model .. 100.00% completed.\n",
      "Model accuracy: 23.08%\n"
     ]
    }
   ],
   "execution_count": 107
  },
  {
   "metadata": {},
   "cell_type": "markdown",
   "source": "# Part 2: Logistic Regression",
   "id": "eb9455dabc228a12"
  },
  {
   "metadata": {},
   "cell_type": "markdown",
   "source": "# Part 3: Evaluation",
   "id": "566cc988c344826f"
  },
  {
   "metadata": {},
   "cell_type": "code",
   "outputs": [],
   "execution_count": null,
   "source": "",
   "id": "e276958de560d0ee"
  }
 ],
 "metadata": {
  "kernelspec": {
   "display_name": "Python 3 (ipykernel)",
   "language": "python",
   "name": "python3"
  },
  "language_info": {
   "codemirror_mode": {
    "name": "ipython",
    "version": 3
   },
   "file_extension": ".py",
   "mimetype": "text/x-python",
   "name": "python",
   "nbconvert_exporter": "python",
   "pygments_lexer": "ipython3",
   "version": "3.11.4"
  }
 },
 "nbformat": 4,
 "nbformat_minor": 5
}
